{
 "cells": [
  {
   "cell_type": "markdown",
   "id": "85656f75-f0ff-4f8c-a834-a4a523e37b63",
   "metadata": {},
   "source": [
    "# **Import the python modules**"
   ]
  },
  {
   "cell_type": "code",
   "execution_count": 483,
   "id": "766331cb-f5cb-4c42-a774-9d8302dbdab3",
   "metadata": {},
   "outputs": [
    {
     "name": "stdout",
     "output_type": "stream",
     "text": [
      "Numpy: 1.26.4\n",
      "Pandas: 2.2.3\n",
      "Seabron: 0.13.2\n"
     ]
    }
   ],
   "source": [
    "import pandas as pd\n",
    "import numpy as np\n",
    "import seaborn as sns\n",
    "import matplotlib.pyplot as plt\n",
    "\n",
    "print(f\"Numpy: {np.__version__}\")\n",
    "print(f\"Pandas: {pd.__version__}\")\n",
    "print(f\"Seabron: {sns.__version__}\")\n"
   ]
  },
  {
   "cell_type": "markdown",
   "id": "be3bfbe5-5b84-4c45-9af4-a9aba1152568",
   "metadata": {},
   "source": [
    "# **Toi Dataset**"
   ]
  },
  {
   "cell_type": "markdown",
   "id": "dc34ac8c-87ef-41ef-8a75-9e09854fc515",
   "metadata": {},
   "source": [
    "**Importing and analyizing the dataset**"
   ]
  },
  {
   "cell_type": "code",
   "execution_count": 484,
   "id": "d5356b93-50c9-4964-890a-d5c2bd701ffd",
   "metadata": {},
   "outputs": [],
   "source": [
    "toi = pd.read_csv(\"/Users/mariosanjuan/Desktop/HuntingExoplanetsAI/Mario/RawDatasete/cumulative.csv\")"
   ]
  },
  {
   "cell_type": "code",
   "execution_count": 485,
   "id": "31fc9d83-1f34-4008-84d6-6f868974cb7d",
   "metadata": {},
   "outputs": [
    {
     "data": {
      "text/plain": [
       "(9564, 64)"
      ]
     },
     "execution_count": 485,
     "metadata": {},
     "output_type": "execute_result"
    }
   ],
   "source": [
    "toi.shape"
   ]
  },
  {
   "cell_type": "code",
   "execution_count": 486,
   "id": "469e8a46-8202-4b2b-9c76-63c3f9a08c0c",
   "metadata": {},
   "outputs": [
    {
     "data": {
      "text/html": [
       "<div>\n",
       "<style scoped>\n",
       "    .dataframe tbody tr th:only-of-type {\n",
       "        vertical-align: middle;\n",
       "    }\n",
       "\n",
       "    .dataframe tbody tr th {\n",
       "        vertical-align: top;\n",
       "    }\n",
       "\n",
       "    .dataframe thead th {\n",
       "        text-align: right;\n",
       "    }\n",
       "</style>\n",
       "<table border=\"1\" class=\"dataframe\">\n",
       "  <thead>\n",
       "    <tr style=\"text-align: right;\">\n",
       "      <th></th>\n",
       "      <th>kepid</th>\n",
       "      <th>kepoi_name</th>\n",
       "      <th>kepler_name</th>\n",
       "      <th>koi_disposition</th>\n",
       "      <th>koi_pdisposition</th>\n",
       "      <th>koi_score</th>\n",
       "      <th>koi_fpflag_nt</th>\n",
       "      <th>koi_fpflag_ss</th>\n",
       "      <th>koi_fpflag_co</th>\n",
       "      <th>koi_fpflag_ec</th>\n",
       "      <th>...</th>\n",
       "      <th>koi_slogg_err2</th>\n",
       "      <th>koi_srad</th>\n",
       "      <th>koi_srad_err1</th>\n",
       "      <th>koi_srad_err2</th>\n",
       "      <th>koi_smass</th>\n",
       "      <th>koi_smass_err1</th>\n",
       "      <th>koi_smass_err2</th>\n",
       "      <th>ra</th>\n",
       "      <th>dec</th>\n",
       "      <th>koi_kepmag</th>\n",
       "    </tr>\n",
       "  </thead>\n",
       "  <tbody>\n",
       "    <tr>\n",
       "      <th>0</th>\n",
       "      <td>10797460</td>\n",
       "      <td>K00752.01</td>\n",
       "      <td>Kepler-227 b</td>\n",
       "      <td>CONFIRMED</td>\n",
       "      <td>CANDIDATE</td>\n",
       "      <td>1.000</td>\n",
       "      <td>0</td>\n",
       "      <td>0</td>\n",
       "      <td>0</td>\n",
       "      <td>0</td>\n",
       "      <td>...</td>\n",
       "      <td>-0.096</td>\n",
       "      <td>0.927</td>\n",
       "      <td>0.105</td>\n",
       "      <td>-0.061</td>\n",
       "      <td>0.919</td>\n",
       "      <td>0.052</td>\n",
       "      <td>-0.046</td>\n",
       "      <td>291.93423</td>\n",
       "      <td>48.141651</td>\n",
       "      <td>15.347</td>\n",
       "    </tr>\n",
       "    <tr>\n",
       "      <th>1</th>\n",
       "      <td>10797460</td>\n",
       "      <td>K00752.02</td>\n",
       "      <td>Kepler-227 c</td>\n",
       "      <td>CONFIRMED</td>\n",
       "      <td>CANDIDATE</td>\n",
       "      <td>0.969</td>\n",
       "      <td>0</td>\n",
       "      <td>0</td>\n",
       "      <td>0</td>\n",
       "      <td>0</td>\n",
       "      <td>...</td>\n",
       "      <td>-0.096</td>\n",
       "      <td>0.927</td>\n",
       "      <td>0.105</td>\n",
       "      <td>-0.061</td>\n",
       "      <td>0.919</td>\n",
       "      <td>0.052</td>\n",
       "      <td>-0.046</td>\n",
       "      <td>291.93423</td>\n",
       "      <td>48.141651</td>\n",
       "      <td>15.347</td>\n",
       "    </tr>\n",
       "    <tr>\n",
       "      <th>2</th>\n",
       "      <td>10811496</td>\n",
       "      <td>K00753.01</td>\n",
       "      <td>NaN</td>\n",
       "      <td>CANDIDATE</td>\n",
       "      <td>CANDIDATE</td>\n",
       "      <td>0.000</td>\n",
       "      <td>0</td>\n",
       "      <td>0</td>\n",
       "      <td>0</td>\n",
       "      <td>0</td>\n",
       "      <td>...</td>\n",
       "      <td>-0.176</td>\n",
       "      <td>0.868</td>\n",
       "      <td>0.233</td>\n",
       "      <td>-0.078</td>\n",
       "      <td>0.961</td>\n",
       "      <td>0.110</td>\n",
       "      <td>-0.121</td>\n",
       "      <td>297.00482</td>\n",
       "      <td>48.134129</td>\n",
       "      <td>15.436</td>\n",
       "    </tr>\n",
       "    <tr>\n",
       "      <th>3</th>\n",
       "      <td>10848459</td>\n",
       "      <td>K00754.01</td>\n",
       "      <td>NaN</td>\n",
       "      <td>FALSE POSITIVE</td>\n",
       "      <td>FALSE POSITIVE</td>\n",
       "      <td>0.000</td>\n",
       "      <td>0</td>\n",
       "      <td>1</td>\n",
       "      <td>0</td>\n",
       "      <td>0</td>\n",
       "      <td>...</td>\n",
       "      <td>-0.168</td>\n",
       "      <td>0.791</td>\n",
       "      <td>0.201</td>\n",
       "      <td>-0.067</td>\n",
       "      <td>0.836</td>\n",
       "      <td>0.093</td>\n",
       "      <td>-0.077</td>\n",
       "      <td>285.53461</td>\n",
       "      <td>48.285210</td>\n",
       "      <td>15.597</td>\n",
       "    </tr>\n",
       "    <tr>\n",
       "      <th>4</th>\n",
       "      <td>10854555</td>\n",
       "      <td>K00755.01</td>\n",
       "      <td>Kepler-664 b</td>\n",
       "      <td>CONFIRMED</td>\n",
       "      <td>CANDIDATE</td>\n",
       "      <td>1.000</td>\n",
       "      <td>0</td>\n",
       "      <td>0</td>\n",
       "      <td>0</td>\n",
       "      <td>0</td>\n",
       "      <td>...</td>\n",
       "      <td>-0.210</td>\n",
       "      <td>1.046</td>\n",
       "      <td>0.334</td>\n",
       "      <td>-0.133</td>\n",
       "      <td>1.095</td>\n",
       "      <td>0.151</td>\n",
       "      <td>-0.136</td>\n",
       "      <td>288.75488</td>\n",
       "      <td>48.226200</td>\n",
       "      <td>15.509</td>\n",
       "    </tr>\n",
       "  </tbody>\n",
       "</table>\n",
       "<p>5 rows × 64 columns</p>\n",
       "</div>"
      ],
      "text/plain": [
       "      kepid kepoi_name   kepler_name koi_disposition koi_pdisposition  \\\n",
       "0  10797460  K00752.01  Kepler-227 b       CONFIRMED        CANDIDATE   \n",
       "1  10797460  K00752.02  Kepler-227 c       CONFIRMED        CANDIDATE   \n",
       "2  10811496  K00753.01           NaN       CANDIDATE        CANDIDATE   \n",
       "3  10848459  K00754.01           NaN  FALSE POSITIVE   FALSE POSITIVE   \n",
       "4  10854555  K00755.01  Kepler-664 b       CONFIRMED        CANDIDATE   \n",
       "\n",
       "   koi_score  koi_fpflag_nt  koi_fpflag_ss  koi_fpflag_co  koi_fpflag_ec  ...  \\\n",
       "0      1.000              0              0              0              0  ...   \n",
       "1      0.969              0              0              0              0  ...   \n",
       "2      0.000              0              0              0              0  ...   \n",
       "3      0.000              0              1              0              0  ...   \n",
       "4      1.000              0              0              0              0  ...   \n",
       "\n",
       "   koi_slogg_err2  koi_srad  koi_srad_err1  koi_srad_err2  koi_smass  \\\n",
       "0          -0.096     0.927          0.105         -0.061      0.919   \n",
       "1          -0.096     0.927          0.105         -0.061      0.919   \n",
       "2          -0.176     0.868          0.233         -0.078      0.961   \n",
       "3          -0.168     0.791          0.201         -0.067      0.836   \n",
       "4          -0.210     1.046          0.334         -0.133      1.095   \n",
       "\n",
       "   koi_smass_err1  koi_smass_err2         ra        dec  koi_kepmag  \n",
       "0           0.052          -0.046  291.93423  48.141651      15.347  \n",
       "1           0.052          -0.046  291.93423  48.141651      15.347  \n",
       "2           0.110          -0.121  297.00482  48.134129      15.436  \n",
       "3           0.093          -0.077  285.53461  48.285210      15.597  \n",
       "4           0.151          -0.136  288.75488  48.226200      15.509  \n",
       "\n",
       "[5 rows x 64 columns]"
      ]
     },
     "execution_count": 486,
     "metadata": {},
     "output_type": "execute_result"
    }
   ],
   "source": [
    "toi.head()"
   ]
  },
  {
   "cell_type": "code",
   "execution_count": 487,
   "id": "8a212ccb-4322-416f-9db8-5b74a451862a",
   "metadata": {},
   "outputs": [
    {
     "data": {
      "text/plain": [
       "Index(['kepid', 'kepoi_name', 'kepler_name', 'koi_disposition',\n",
       "       'koi_pdisposition', 'koi_score', 'koi_fpflag_nt', 'koi_fpflag_ss',\n",
       "       'koi_fpflag_co', 'koi_fpflag_ec', 'koi_period', 'koi_period_err1',\n",
       "       'koi_period_err2', 'koi_time0bk', 'koi_time0bk_err1',\n",
       "       'koi_time0bk_err2', 'koi_impact', 'koi_impact_err1', 'koi_impact_err2',\n",
       "       'koi_duration', 'koi_duration_err1', 'koi_duration_err2', 'koi_ingress',\n",
       "       'koi_ingress_err1', 'koi_ingress_err2', 'koi_depth', 'koi_depth_err1',\n",
       "       'koi_depth_err2', 'koi_ror', 'koi_ror_err1', 'koi_ror_err2', 'koi_prad',\n",
       "       'koi_prad_err1', 'koi_prad_err2', 'koi_incl', 'koi_incl_err1',\n",
       "       'koi_incl_err2', 'koi_teq', 'koi_teq_err1', 'koi_teq_err2', 'koi_insol',\n",
       "       'koi_insol_err1', 'koi_insol_err2', 'koi_dor', 'koi_dor_err1',\n",
       "       'koi_dor_err2', 'koi_model_snr', 'koi_tce_plnt_num',\n",
       "       'koi_tce_delivname', 'koi_steff', 'koi_steff_err1', 'koi_steff_err2',\n",
       "       'koi_slogg', 'koi_slogg_err1', 'koi_slogg_err2', 'koi_srad',\n",
       "       'koi_srad_err1', 'koi_srad_err2', 'koi_smass', 'koi_smass_err1',\n",
       "       'koi_smass_err2', 'ra', 'dec', 'koi_kepmag'],\n",
       "      dtype='object')"
      ]
     },
     "execution_count": 487,
     "metadata": {},
     "output_type": "execute_result"
    }
   ],
   "source": [
    "toi.columns"
   ]
  },
  {
   "cell_type": "code",
   "execution_count": 488,
   "id": "33f1b3a4-590a-416b-8eb1-b4ca30f6b64f",
   "metadata": {},
   "outputs": [
    {
     "data": {
      "text/html": [
       "<div>\n",
       "<style scoped>\n",
       "    .dataframe tbody tr th:only-of-type {\n",
       "        vertical-align: middle;\n",
       "    }\n",
       "\n",
       "    .dataframe tbody tr th {\n",
       "        vertical-align: top;\n",
       "    }\n",
       "\n",
       "    .dataframe thead th {\n",
       "        text-align: right;\n",
       "    }\n",
       "</style>\n",
       "<table border=\"1\" class=\"dataframe\">\n",
       "  <thead>\n",
       "    <tr style=\"text-align: right;\">\n",
       "      <th></th>\n",
       "      <th>kepid</th>\n",
       "      <th>koi_score</th>\n",
       "      <th>koi_fpflag_nt</th>\n",
       "      <th>koi_fpflag_ss</th>\n",
       "      <th>koi_fpflag_co</th>\n",
       "      <th>koi_fpflag_ec</th>\n",
       "      <th>koi_period</th>\n",
       "      <th>koi_period_err1</th>\n",
       "      <th>koi_period_err2</th>\n",
       "      <th>koi_time0bk</th>\n",
       "      <th>...</th>\n",
       "      <th>koi_slogg_err2</th>\n",
       "      <th>koi_srad</th>\n",
       "      <th>koi_srad_err1</th>\n",
       "      <th>koi_srad_err2</th>\n",
       "      <th>koi_smass</th>\n",
       "      <th>koi_smass_err1</th>\n",
       "      <th>koi_smass_err2</th>\n",
       "      <th>ra</th>\n",
       "      <th>dec</th>\n",
       "      <th>koi_kepmag</th>\n",
       "    </tr>\n",
       "  </thead>\n",
       "  <tbody>\n",
       "    <tr>\n",
       "      <th>count</th>\n",
       "      <td>9.564000e+03</td>\n",
       "      <td>8054.000000</td>\n",
       "      <td>9564.000000</td>\n",
       "      <td>9564.000000</td>\n",
       "      <td>9564.000000</td>\n",
       "      <td>9564.000000</td>\n",
       "      <td>9564.000000</td>\n",
       "      <td>9110.000000</td>\n",
       "      <td>9110.000000</td>\n",
       "      <td>9564.000000</td>\n",
       "      <td>...</td>\n",
       "      <td>9096.000000</td>\n",
       "      <td>9201.000000</td>\n",
       "      <td>9096.000000</td>\n",
       "      <td>9096.000000</td>\n",
       "      <td>9201.000000</td>\n",
       "      <td>9096.000000</td>\n",
       "      <td>9096.000000</td>\n",
       "      <td>9564.000000</td>\n",
       "      <td>9564.000000</td>\n",
       "      <td>9563.000000</td>\n",
       "    </tr>\n",
       "    <tr>\n",
       "      <th>mean</th>\n",
       "      <td>7.690628e+06</td>\n",
       "      <td>0.480829</td>\n",
       "      <td>0.208595</td>\n",
       "      <td>0.232748</td>\n",
       "      <td>0.197512</td>\n",
       "      <td>0.120033</td>\n",
       "      <td>75.671358</td>\n",
       "      <td>0.002148</td>\n",
       "      <td>-0.002148</td>\n",
       "      <td>166.183251</td>\n",
       "      <td>...</td>\n",
       "      <td>-0.143161</td>\n",
       "      <td>1.728712</td>\n",
       "      <td>0.362292</td>\n",
       "      <td>-0.394806</td>\n",
       "      <td>1.023706</td>\n",
       "      <td>0.122801</td>\n",
       "      <td>-0.138824</td>\n",
       "      <td>292.060163</td>\n",
       "      <td>43.810433</td>\n",
       "      <td>14.264606</td>\n",
       "    </tr>\n",
       "    <tr>\n",
       "      <th>std</th>\n",
       "      <td>2.653459e+06</td>\n",
       "      <td>0.476928</td>\n",
       "      <td>4.767290</td>\n",
       "      <td>0.422605</td>\n",
       "      <td>0.398142</td>\n",
       "      <td>0.325018</td>\n",
       "      <td>1334.744046</td>\n",
       "      <td>0.008236</td>\n",
       "      <td>0.008236</td>\n",
       "      <td>67.918960</td>\n",
       "      <td>...</td>\n",
       "      <td>0.085477</td>\n",
       "      <td>6.127185</td>\n",
       "      <td>0.930870</td>\n",
       "      <td>2.168213</td>\n",
       "      <td>0.349447</td>\n",
       "      <td>0.085946</td>\n",
       "      <td>0.178983</td>\n",
       "      <td>4.766657</td>\n",
       "      <td>3.601243</td>\n",
       "      <td>1.385448</td>\n",
       "    </tr>\n",
       "    <tr>\n",
       "      <th>min</th>\n",
       "      <td>7.574500e+05</td>\n",
       "      <td>0.000000</td>\n",
       "      <td>0.000000</td>\n",
       "      <td>0.000000</td>\n",
       "      <td>0.000000</td>\n",
       "      <td>0.000000</td>\n",
       "      <td>0.241843</td>\n",
       "      <td>0.000000</td>\n",
       "      <td>-0.172500</td>\n",
       "      <td>120.515914</td>\n",
       "      <td>...</td>\n",
       "      <td>-1.207000</td>\n",
       "      <td>0.109000</td>\n",
       "      <td>0.000000</td>\n",
       "      <td>-116.137000</td>\n",
       "      <td>0.000000</td>\n",
       "      <td>0.000000</td>\n",
       "      <td>-2.432000</td>\n",
       "      <td>279.852720</td>\n",
       "      <td>36.577381</td>\n",
       "      <td>6.966000</td>\n",
       "    </tr>\n",
       "    <tr>\n",
       "      <th>25%</th>\n",
       "      <td>5.556034e+06</td>\n",
       "      <td>0.000000</td>\n",
       "      <td>0.000000</td>\n",
       "      <td>0.000000</td>\n",
       "      <td>0.000000</td>\n",
       "      <td>0.000000</td>\n",
       "      <td>2.733684</td>\n",
       "      <td>0.000005</td>\n",
       "      <td>-0.000276</td>\n",
       "      <td>132.761718</td>\n",
       "      <td>...</td>\n",
       "      <td>-0.196000</td>\n",
       "      <td>0.829000</td>\n",
       "      <td>0.129000</td>\n",
       "      <td>-0.250000</td>\n",
       "      <td>0.845000</td>\n",
       "      <td>0.072000</td>\n",
       "      <td>-0.141000</td>\n",
       "      <td>288.660770</td>\n",
       "      <td>40.777173</td>\n",
       "      <td>13.440000</td>\n",
       "    </tr>\n",
       "    <tr>\n",
       "      <th>50%</th>\n",
       "      <td>7.906892e+06</td>\n",
       "      <td>0.334000</td>\n",
       "      <td>0.000000</td>\n",
       "      <td>0.000000</td>\n",
       "      <td>0.000000</td>\n",
       "      <td>0.000000</td>\n",
       "      <td>9.752831</td>\n",
       "      <td>0.000035</td>\n",
       "      <td>-0.000035</td>\n",
       "      <td>137.224595</td>\n",
       "      <td>...</td>\n",
       "      <td>-0.128000</td>\n",
       "      <td>1.000000</td>\n",
       "      <td>0.251000</td>\n",
       "      <td>-0.111000</td>\n",
       "      <td>0.974000</td>\n",
       "      <td>0.106000</td>\n",
       "      <td>-0.097500</td>\n",
       "      <td>292.261125</td>\n",
       "      <td>43.677504</td>\n",
       "      <td>14.520000</td>\n",
       "    </tr>\n",
       "    <tr>\n",
       "      <th>75%</th>\n",
       "      <td>9.873066e+06</td>\n",
       "      <td>0.998000</td>\n",
       "      <td>0.000000</td>\n",
       "      <td>0.000000</td>\n",
       "      <td>0.000000</td>\n",
       "      <td>0.000000</td>\n",
       "      <td>40.715178</td>\n",
       "      <td>0.000276</td>\n",
       "      <td>-0.000005</td>\n",
       "      <td>170.694603</td>\n",
       "      <td>...</td>\n",
       "      <td>-0.088000</td>\n",
       "      <td>1.345000</td>\n",
       "      <td>0.364000</td>\n",
       "      <td>-0.069000</td>\n",
       "      <td>1.101000</td>\n",
       "      <td>0.151000</td>\n",
       "      <td>-0.061000</td>\n",
       "      <td>295.859160</td>\n",
       "      <td>46.714611</td>\n",
       "      <td>15.322000</td>\n",
       "    </tr>\n",
       "    <tr>\n",
       "      <th>max</th>\n",
       "      <td>1.293514e+07</td>\n",
       "      <td>1.000000</td>\n",
       "      <td>465.000000</td>\n",
       "      <td>1.000000</td>\n",
       "      <td>1.000000</td>\n",
       "      <td>1.000000</td>\n",
       "      <td>129995.778400</td>\n",
       "      <td>0.172500</td>\n",
       "      <td>0.000000</td>\n",
       "      <td>1472.522306</td>\n",
       "      <td>...</td>\n",
       "      <td>0.000000</td>\n",
       "      <td>229.908000</td>\n",
       "      <td>33.091000</td>\n",
       "      <td>0.000000</td>\n",
       "      <td>3.735000</td>\n",
       "      <td>1.500000</td>\n",
       "      <td>0.000000</td>\n",
       "      <td>301.720760</td>\n",
       "      <td>52.336010</td>\n",
       "      <td>20.003000</td>\n",
       "    </tr>\n",
       "  </tbody>\n",
       "</table>\n",
       "<p>8 rows × 59 columns</p>\n",
       "</div>"
      ],
      "text/plain": [
       "              kepid    koi_score  koi_fpflag_nt  koi_fpflag_ss  koi_fpflag_co  \\\n",
       "count  9.564000e+03  8054.000000    9564.000000    9564.000000    9564.000000   \n",
       "mean   7.690628e+06     0.480829       0.208595       0.232748       0.197512   \n",
       "std    2.653459e+06     0.476928       4.767290       0.422605       0.398142   \n",
       "min    7.574500e+05     0.000000       0.000000       0.000000       0.000000   \n",
       "25%    5.556034e+06     0.000000       0.000000       0.000000       0.000000   \n",
       "50%    7.906892e+06     0.334000       0.000000       0.000000       0.000000   \n",
       "75%    9.873066e+06     0.998000       0.000000       0.000000       0.000000   \n",
       "max    1.293514e+07     1.000000     465.000000       1.000000       1.000000   \n",
       "\n",
       "       koi_fpflag_ec     koi_period  koi_period_err1  koi_period_err2  \\\n",
       "count    9564.000000    9564.000000      9110.000000      9110.000000   \n",
       "mean        0.120033      75.671358         0.002148        -0.002148   \n",
       "std         0.325018    1334.744046         0.008236         0.008236   \n",
       "min         0.000000       0.241843         0.000000        -0.172500   \n",
       "25%         0.000000       2.733684         0.000005        -0.000276   \n",
       "50%         0.000000       9.752831         0.000035        -0.000035   \n",
       "75%         0.000000      40.715178         0.000276        -0.000005   \n",
       "max         1.000000  129995.778400         0.172500         0.000000   \n",
       "\n",
       "       koi_time0bk  ...  koi_slogg_err2     koi_srad  koi_srad_err1  \\\n",
       "count  9564.000000  ...     9096.000000  9201.000000    9096.000000   \n",
       "mean    166.183251  ...       -0.143161     1.728712       0.362292   \n",
       "std      67.918960  ...        0.085477     6.127185       0.930870   \n",
       "min     120.515914  ...       -1.207000     0.109000       0.000000   \n",
       "25%     132.761718  ...       -0.196000     0.829000       0.129000   \n",
       "50%     137.224595  ...       -0.128000     1.000000       0.251000   \n",
       "75%     170.694603  ...       -0.088000     1.345000       0.364000   \n",
       "max    1472.522306  ...        0.000000   229.908000      33.091000   \n",
       "\n",
       "       koi_srad_err2    koi_smass  koi_smass_err1  koi_smass_err2  \\\n",
       "count    9096.000000  9201.000000     9096.000000     9096.000000   \n",
       "mean       -0.394806     1.023706        0.122801       -0.138824   \n",
       "std         2.168213     0.349447        0.085946        0.178983   \n",
       "min      -116.137000     0.000000        0.000000       -2.432000   \n",
       "25%        -0.250000     0.845000        0.072000       -0.141000   \n",
       "50%        -0.111000     0.974000        0.106000       -0.097500   \n",
       "75%        -0.069000     1.101000        0.151000       -0.061000   \n",
       "max         0.000000     3.735000        1.500000        0.000000   \n",
       "\n",
       "                ra          dec   koi_kepmag  \n",
       "count  9564.000000  9564.000000  9563.000000  \n",
       "mean    292.060163    43.810433    14.264606  \n",
       "std       4.766657     3.601243     1.385448  \n",
       "min     279.852720    36.577381     6.966000  \n",
       "25%     288.660770    40.777173    13.440000  \n",
       "50%     292.261125    43.677504    14.520000  \n",
       "75%     295.859160    46.714611    15.322000  \n",
       "max     301.720760    52.336010    20.003000  \n",
       "\n",
       "[8 rows x 59 columns]"
      ]
     },
     "execution_count": 488,
     "metadata": {},
     "output_type": "execute_result"
    }
   ],
   "source": [
    "toi.describe()"
   ]
  },
  {
   "cell_type": "markdown",
   "id": "4c1f1870-8f96-4176-ac59-b5cd8938e162",
   "metadata": {},
   "source": [
    "**Looking for columns with lots of missing values and removing them**"
   ]
  },
  {
   "cell_type": "code",
   "execution_count": 489,
   "id": "ba02776c-3a84-4292-8a3d-86513a500ddf",
   "metadata": {},
   "outputs": [],
   "source": [
    "na_data = toi.isnull().sum().sort_values(ascending=False)"
   ]
  },
  {
   "cell_type": "code",
   "execution_count": 490,
   "id": "5088e8f1-46a5-4079-b9dd-164cd0123e11",
   "metadata": {},
   "outputs": [
    {
     "name": "stdout",
     "output_type": "stream",
     "text": [
      "['koi_incl_err1', 'koi_incl_err2', 'koi_ingress_err1', 'koi_ingress_err2', 'koi_teq_err2', 'koi_teq_err1', 'koi_ingress', 'kepler_name', 'koi_score']\n"
     ]
    }
   ],
   "source": [
    "#Getting and deleting the columns with lots of null values\n",
    "max_na_cols = na_data[na_data >= 1000].index.tolist()\n",
    "max_na_cols = na_data[na_data >= 1000].index.tolist()\n",
    "print(max_na_cols)\n",
    "toi = toi.drop(columns=max_na_cols)\n"
   ]
  },
  {
   "cell_type": "markdown",
   "id": "1c12b2f9-de5e-43b5-9f7e-941e54f35f66",
   "metadata": {},
   "source": [
    "**Removing the rest of rows with na values**"
   ]
  },
  {
   "cell_type": "code",
   "execution_count": 491,
   "id": "66031a2a-8fe0-41b4-a95f-5630bc9492f5",
   "metadata": {},
   "outputs": [],
   "source": [
    "na_rows = na_data[na_data < 1000].index.tolist()\n",
    "toi = toi.dropna(subset=na_rows)"
   ]
  },
  {
   "cell_type": "code",
   "execution_count": 492,
   "id": "698ed8ec-3e1f-4ed9-ac31-bd4d2b47fa73",
   "metadata": {},
   "outputs": [],
   "source": [
    "toi.shape\n",
    "toi.to_csv(\"cleanedData.csv\", index=False)"
   ]
  },
  {
   "cell_type": "markdown",
   "id": "9bd86d14-df7b-4a87-8ee1-5d4952427f98",
   "metadata": {},
   "source": [
    "**Delete unuseful columns**"
   ]
  },
  {
   "cell_type": "code",
   "execution_count": 493,
   "id": "a6b487db-a30c-4cdd-9f33-0064e3747fec",
   "metadata": {},
   "outputs": [],
   "source": [
    "toi.columns\n",
    "toi = toi.drop(columns=[\"kepid\",\"kepoi_name\",\"koi_tce_delivname\", \"koi_pdisposition\"])"
   ]
  },
  {
   "cell_type": "markdown",
   "id": "00f9da21-d338-4114-a623-cb9b85ccd8f3",
   "metadata": {},
   "source": [
    "**Dealing with categorical columns and doing one hot encoding**"
   ]
  },
  {
   "cell_type": "code",
   "execution_count": 494,
   "id": "a674af68-3992-4fa7-a0b1-e878b5d24d67",
   "metadata": {},
   "outputs": [
    {
     "data": {
      "text/html": [
       "<div>\n",
       "<style scoped>\n",
       "    .dataframe tbody tr th:only-of-type {\n",
       "        vertical-align: middle;\n",
       "    }\n",
       "\n",
       "    .dataframe tbody tr th {\n",
       "        vertical-align: top;\n",
       "    }\n",
       "\n",
       "    .dataframe thead th {\n",
       "        text-align: right;\n",
       "    }\n",
       "</style>\n",
       "<table border=\"1\" class=\"dataframe\">\n",
       "  <thead>\n",
       "    <tr style=\"text-align: right;\">\n",
       "      <th></th>\n",
       "      <th>koi_disposition</th>\n",
       "    </tr>\n",
       "  </thead>\n",
       "  <tbody>\n",
       "    <tr>\n",
       "      <th>0</th>\n",
       "      <td>CONFIRMED</td>\n",
       "    </tr>\n",
       "    <tr>\n",
       "      <th>1</th>\n",
       "      <td>CONFIRMED</td>\n",
       "    </tr>\n",
       "    <tr>\n",
       "      <th>2</th>\n",
       "      <td>CANDIDATE</td>\n",
       "    </tr>\n",
       "    <tr>\n",
       "      <th>3</th>\n",
       "      <td>FALSE POSITIVE</td>\n",
       "    </tr>\n",
       "    <tr>\n",
       "      <th>4</th>\n",
       "      <td>CONFIRMED</td>\n",
       "    </tr>\n",
       "    <tr>\n",
       "      <th>...</th>\n",
       "      <td>...</td>\n",
       "    </tr>\n",
       "    <tr>\n",
       "      <th>9559</th>\n",
       "      <td>FALSE POSITIVE</td>\n",
       "    </tr>\n",
       "    <tr>\n",
       "      <th>9560</th>\n",
       "      <td>CANDIDATE</td>\n",
       "    </tr>\n",
       "    <tr>\n",
       "      <th>9561</th>\n",
       "      <td>FALSE POSITIVE</td>\n",
       "    </tr>\n",
       "    <tr>\n",
       "      <th>9562</th>\n",
       "      <td>CANDIDATE</td>\n",
       "    </tr>\n",
       "    <tr>\n",
       "      <th>9563</th>\n",
       "      <td>FALSE POSITIVE</td>\n",
       "    </tr>\n",
       "  </tbody>\n",
       "</table>\n",
       "<p>8743 rows × 1 columns</p>\n",
       "</div>"
      ],
      "text/plain": [
       "     koi_disposition\n",
       "0          CONFIRMED\n",
       "1          CONFIRMED\n",
       "2          CANDIDATE\n",
       "3     FALSE POSITIVE\n",
       "4          CONFIRMED\n",
       "...              ...\n",
       "9559  FALSE POSITIVE\n",
       "9560       CANDIDATE\n",
       "9561  FALSE POSITIVE\n",
       "9562       CANDIDATE\n",
       "9563  FALSE POSITIVE\n",
       "\n",
       "[8743 rows x 1 columns]"
      ]
     },
     "execution_count": 494,
     "metadata": {},
     "output_type": "execute_result"
    }
   ],
   "source": [
    "toi.select_dtypes(exclude=['number'])"
   ]
  },
  {
   "cell_type": "code",
   "execution_count": 495,
   "id": "52d91608-9609-4ca3-8082-b2f2a20cc99e",
   "metadata": {},
   "outputs": [
    {
     "data": {
      "text/plain": [
       "{'CANDIDATE', 'CONFIRMED', 'FALSE POSITIVE'}"
      ]
     },
     "execution_count": 495,
     "metadata": {},
     "output_type": "execute_result"
    }
   ],
   "source": [
    "label_values = set(toi.koi_disposition)\n",
    "label_values"
   ]
  },
  {
   "cell_type": "markdown",
   "id": "9b1be7ae-68e6-4ae0-8a8a-6f65313b71f3",
   "metadata": {},
   "source": [
    "**Separating values from labels for de NN:**"
   ]
  },
  {
   "cell_type": "code",
   "execution_count": 496,
   "id": "abdb91a2-f4df-43a8-b86e-82c8e2d0aaaf",
   "metadata": {},
   "outputs": [],
   "source": [
    "y = toi.koi_disposition\n",
    "x = toi.drop(columns=[\"koi_disposition\"])"
   ]
  },
  {
   "cell_type": "code",
   "execution_count": 497,
   "id": "a15c153a-c2f2-43a5-9b64-7a133c6f3178",
   "metadata": {},
   "outputs": [
    {
     "data": {
      "text/plain": [
       "array([1, 1, 0, 2, 1])"
      ]
     },
     "execution_count": 497,
     "metadata": {},
     "output_type": "execute_result"
    }
   ],
   "source": [
    "from sklearn.preprocessing import LabelEncoder\n",
    "# 0 = Candidate\n",
    "# 1 = Confirmed\n",
    "# 2 = False Positive\n",
    "\n",
    "le = LabelEncoder()\n",
    "y = le.fit_transform(y)\n",
    "y[:5]"
   ]
  },
  {
   "cell_type": "code",
   "execution_count": null,
   "id": "973fd225-fe5d-4c4e-b5d1-0d0a9d1d4cfd",
   "metadata": {},
   "outputs": [],
   "source": []
  },
  {
   "cell_type": "code",
   "execution_count": null,
   "id": "5aee86ad-20da-4404-a705-40d26dcb2cd9",
   "metadata": {},
   "outputs": [],
   "source": []
  },
  {
   "cell_type": "markdown",
   "id": "c3fbbab0-435e-4c74-b288-51a924b53429",
   "metadata": {},
   "source": [
    "**Normalizing values**"
   ]
  },
  {
   "cell_type": "code",
   "execution_count": 498,
   "id": "83f3ecc8-d9a3-4b09-9787-901f735c4f49",
   "metadata": {},
   "outputs": [],
   "source": [
    "from sklearn.preprocessing import StandardScaler\n",
    "scaler = StandardScaler()\n",
    "X_scaled = scaler.fit_transform(x)"
   ]
  },
  {
   "cell_type": "markdown",
   "id": "aa159978-7086-4e52-9ed2-34b68bbc1647",
   "metadata": {},
   "source": [
    "Note: \n",
    "y = labels\n",
    "X_scaled = values for the NN between 0-1"
   ]
  },
  {
   "cell_type": "markdown",
   "id": "bc805f82-3346-463e-bf0c-6adbd90c7803",
   "metadata": {},
   "source": [
    "# **Neuronal Network:**"
   ]
  },
  {
   "cell_type": "markdown",
   "id": "c7e4e3c3-872d-488c-ad24-5364ad0fa35c",
   "metadata": {},
   "source": [
    "**Train Test Split**"
   ]
  },
  {
   "cell_type": "code",
   "execution_count": 499,
   "id": "8e033bb8-0e62-4183-9a75-a70e91b3a49f",
   "metadata": {},
   "outputs": [
    {
     "name": "stdout",
     "output_type": "stream",
     "text": [
      "Train: (6120, 50) Validation: (1311, 50) Test: (1312, 50)\n"
     ]
    }
   ],
   "source": [
    "from sklearn.model_selection import train_test_split\n",
    "\n",
    "# Primero separas train+temp y test\n",
    "X_train, X_temp, y_train, y_temp = train_test_split(\n",
    "    X_scaled, y, test_size=0.3, random_state=42, stratify=y, shuffle=True\n",
    ")\n",
    "\n",
    "# Luego separas temp en validación y test\n",
    "X_val, X_test, y_val, y_test = train_test_split(\n",
    "    X_temp, y_temp, test_size=0.5, random_state=42, stratify=y_temp\n",
    ")\n",
    "\n",
    "print(\"Train:\", X_train.shape, \"Validation:\", X_val.shape, \"Test:\", X_test.shape)\n"
   ]
  },
  {
   "cell_type": "code",
   "execution_count": null,
   "id": "304bf1ea-ac81-46a7-955e-b6a7212e695d",
   "metadata": {},
   "outputs": [],
   "source": []
  },
  {
   "cell_type": "code",
   "execution_count": null,
   "id": "8b592097-f776-4ec7-9326-305489f6ed92",
   "metadata": {},
   "outputs": [],
   "source": []
  },
  {
   "cell_type": "markdown",
   "id": "82c5a6f7-98f3-4438-bca8-7945a9b2b4ff",
   "metadata": {},
   "source": [
    "**Neuronal Network**"
   ]
  },
  {
   "cell_type": "code",
   "execution_count": 500,
   "id": "d07b8eae-6276-4a79-a192-1c057e2bf589",
   "metadata": {},
   "outputs": [
    {
     "name": "stdout",
     "output_type": "stream",
     "text": [
      "Epoch 1/25\n"
     ]
    },
    {
     "name": "stderr",
     "output_type": "stream",
     "text": [
      "/opt/miniconda3/lib/python3.12/site-packages/keras/src/layers/core/dense.py:87: UserWarning: Do not pass an `input_shape`/`input_dim` argument to a layer. When using Sequential models, prefer using an `Input(shape)` object as the first layer in the model instead.\n",
      "  super().__init__(activity_regularizer=activity_regularizer, **kwargs)\n"
     ]
    },
    {
     "name": "stdout",
     "output_type": "stream",
     "text": [
      "\u001b[1m192/192\u001b[0m \u001b[32m━━━━━━━━━━━━━━━━━━━━\u001b[0m\u001b[37m\u001b[0m \u001b[1m1s\u001b[0m 1ms/step - accuracy: 0.6219 - loss: 0.8189 - val_accuracy: 0.8139 - val_loss: 0.3977\n",
      "Epoch 2/25\n",
      "\u001b[1m192/192\u001b[0m \u001b[32m━━━━━━━━━━━━━━━━━━━━\u001b[0m\u001b[37m\u001b[0m \u001b[1m0s\u001b[0m 822us/step - accuracy: 0.8016 - loss: 0.4488 - val_accuracy: 0.8185 - val_loss: 0.3814\n",
      "Epoch 3/25\n",
      "\u001b[1m192/192\u001b[0m \u001b[32m━━━━━━━━━━━━━━━━━━━━\u001b[0m\u001b[37m\u001b[0m \u001b[1m0s\u001b[0m 793us/step - accuracy: 0.8270 - loss: 0.4072 - val_accuracy: 0.8513 - val_loss: 0.3416\n",
      "Epoch 4/25\n",
      "\u001b[1m192/192\u001b[0m \u001b[32m━━━━━━━━━━━━━━━━━━━━\u001b[0m\u001b[37m\u001b[0m \u001b[1m0s\u001b[0m 751us/step - accuracy: 0.8308 - loss: 0.3818 - val_accuracy: 0.8627 - val_loss: 0.3285\n",
      "Epoch 5/25\n",
      "\u001b[1m192/192\u001b[0m \u001b[32m━━━━━━━━━━━━━━━━━━━━\u001b[0m\u001b[37m\u001b[0m \u001b[1m0s\u001b[0m 759us/step - accuracy: 0.8474 - loss: 0.3694 - val_accuracy: 0.8741 - val_loss: 0.3182\n",
      "Epoch 6/25\n",
      "\u001b[1m192/192\u001b[0m \u001b[32m━━━━━━━━━━━━━━━━━━━━\u001b[0m\u001b[37m\u001b[0m \u001b[1m0s\u001b[0m 741us/step - accuracy: 0.8641 - loss: 0.3225 - val_accuracy: 0.8680 - val_loss: 0.3241\n",
      "Epoch 7/25\n",
      "\u001b[1m192/192\u001b[0m \u001b[32m━━━━━━━━━━━━━━━━━━━━\u001b[0m\u001b[37m\u001b[0m \u001b[1m0s\u001b[0m 745us/step - accuracy: 0.8695 - loss: 0.3141 - val_accuracy: 0.8863 - val_loss: 0.2897\n",
      "Epoch 8/25\n",
      "\u001b[1m192/192\u001b[0m \u001b[32m━━━━━━━━━━━━━━━━━━━━\u001b[0m\u001b[37m\u001b[0m \u001b[1m0s\u001b[0m 741us/step - accuracy: 0.8702 - loss: 0.3155 - val_accuracy: 0.8871 - val_loss: 0.2768\n",
      "Epoch 9/25\n",
      "\u001b[1m192/192\u001b[0m \u001b[32m━━━━━━━━━━━━━━━━━━━━\u001b[0m\u001b[37m\u001b[0m \u001b[1m0s\u001b[0m 736us/step - accuracy: 0.8875 - loss: 0.2820 - val_accuracy: 0.9039 - val_loss: 0.2554\n",
      "Epoch 10/25\n",
      "\u001b[1m192/192\u001b[0m \u001b[32m━━━━━━━━━━━━━━━━━━━━\u001b[0m\u001b[37m\u001b[0m \u001b[1m0s\u001b[0m 740us/step - accuracy: 0.8915 - loss: 0.2696 - val_accuracy: 0.8993 - val_loss: 0.2568\n",
      "Epoch 11/25\n",
      "\u001b[1m192/192\u001b[0m \u001b[32m━━━━━━━━━━━━━━━━━━━━\u001b[0m\u001b[37m\u001b[0m \u001b[1m0s\u001b[0m 743us/step - accuracy: 0.8847 - loss: 0.2772 - val_accuracy: 0.9085 - val_loss: 0.2419\n",
      "Epoch 12/25\n",
      "\u001b[1m192/192\u001b[0m \u001b[32m━━━━━━━━━━━━━━━━━━━━\u001b[0m\u001b[37m\u001b[0m \u001b[1m0s\u001b[0m 749us/step - accuracy: 0.8992 - loss: 0.2424 - val_accuracy: 0.9191 - val_loss: 0.2175\n",
      "Epoch 13/25\n",
      "\u001b[1m192/192\u001b[0m \u001b[32m━━━━━━━━━━━━━━━━━━━━\u001b[0m\u001b[37m\u001b[0m \u001b[1m0s\u001b[0m 741us/step - accuracy: 0.9104 - loss: 0.2230 - val_accuracy: 0.9146 - val_loss: 0.2268\n",
      "Epoch 14/25\n",
      "\u001b[1m192/192\u001b[0m \u001b[32m━━━━━━━━━━━━━━━━━━━━\u001b[0m\u001b[37m\u001b[0m \u001b[1m0s\u001b[0m 742us/step - accuracy: 0.9079 - loss: 0.2442 - val_accuracy: 0.9237 - val_loss: 0.2055\n",
      "Epoch 15/25\n",
      "\u001b[1m192/192\u001b[0m \u001b[32m━━━━━━━━━━━━━━━━━━━━\u001b[0m\u001b[37m\u001b[0m \u001b[1m0s\u001b[0m 741us/step - accuracy: 0.9131 - loss: 0.2122 - val_accuracy: 0.9283 - val_loss: 0.2059\n",
      "Epoch 16/25\n",
      "\u001b[1m192/192\u001b[0m \u001b[32m━━━━━━━━━━━━━━━━━━━━\u001b[0m\u001b[37m\u001b[0m \u001b[1m0s\u001b[0m 753us/step - accuracy: 0.9142 - loss: 0.2145 - val_accuracy: 0.9207 - val_loss: 0.2020\n",
      "Epoch 17/25\n",
      "\u001b[1m192/192\u001b[0m \u001b[32m━━━━━━━━━━━━━━━━━━━━\u001b[0m\u001b[37m\u001b[0m \u001b[1m0s\u001b[0m 754us/step - accuracy: 0.9146 - loss: 0.2127 - val_accuracy: 0.9291 - val_loss: 0.1918\n",
      "Epoch 18/25\n",
      "\u001b[1m192/192\u001b[0m \u001b[32m━━━━━━━━━━━━━━━━━━━━\u001b[0m\u001b[37m\u001b[0m \u001b[1m0s\u001b[0m 755us/step - accuracy: 0.9187 - loss: 0.1967 - val_accuracy: 0.9283 - val_loss: 0.1975\n",
      "Epoch 19/25\n",
      "\u001b[1m192/192\u001b[0m \u001b[32m━━━━━━━━━━━━━━━━━━━━\u001b[0m\u001b[37m\u001b[0m \u001b[1m0s\u001b[0m 758us/step - accuracy: 0.9214 - loss: 0.1972 - val_accuracy: 0.9268 - val_loss: 0.1947\n",
      "Epoch 20/25\n",
      "\u001b[1m192/192\u001b[0m \u001b[32m━━━━━━━━━━━━━━━━━━━━\u001b[0m\u001b[37m\u001b[0m \u001b[1m0s\u001b[0m 737us/step - accuracy: 0.9253 - loss: 0.1866 - val_accuracy: 0.9260 - val_loss: 0.1993\n",
      "Epoch 21/25\n",
      "\u001b[1m192/192\u001b[0m \u001b[32m━━━━━━━━━━━━━━━━━━━━\u001b[0m\u001b[37m\u001b[0m \u001b[1m0s\u001b[0m 741us/step - accuracy: 0.9208 - loss: 0.1930 - val_accuracy: 0.9291 - val_loss: 0.1934\n",
      "Epoch 22/25\n",
      "\u001b[1m192/192\u001b[0m \u001b[32m━━━━━━━━━━━━━━━━━━━━\u001b[0m\u001b[37m\u001b[0m \u001b[1m0s\u001b[0m 789us/step - accuracy: 0.9203 - loss: 0.1900 - val_accuracy: 0.9237 - val_loss: 0.1994\n",
      "Epoch 23/25\n",
      "\u001b[1m192/192\u001b[0m \u001b[32m━━━━━━━━━━━━━━━━━━━━\u001b[0m\u001b[37m\u001b[0m \u001b[1m0s\u001b[0m 826us/step - accuracy: 0.9153 - loss: 0.1979 - val_accuracy: 0.9298 - val_loss: 0.1916\n",
      "Epoch 24/25\n",
      "\u001b[1m192/192\u001b[0m \u001b[32m━━━━━━━━━━━━━━━━━━━━\u001b[0m\u001b[37m\u001b[0m \u001b[1m0s\u001b[0m 747us/step - accuracy: 0.9213 - loss: 0.1891 - val_accuracy: 0.9314 - val_loss: 0.1949\n",
      "Epoch 25/25\n",
      "\u001b[1m192/192\u001b[0m \u001b[32m━━━━━━━━━━━━━━━━━━━━\u001b[0m\u001b[37m\u001b[0m \u001b[1m0s\u001b[0m 733us/step - accuracy: 0.9249 - loss: 0.1901 - val_accuracy: 0.9283 - val_loss: 0.1976\n"
     ]
    }
   ],
   "source": [
    "import tensorflow as tf\n",
    "from tensorflow import keras\n",
    "from tensorflow.keras import layers\n",
    "\n",
    "model = keras.Sequential([\n",
    "    layers.Dense(128, activation=\"relu\", input_shape=(50,)),\n",
    "    layers.Dropout(0.3),\n",
    "    layers.Dense(64, activation=\"relu\"),\n",
    "    layers.Dropout(0.3),\n",
    "    layers.Dense(32, activation=\"relu\"),\n",
    "    layers.Dense(len(set(y)), activation=\"softmax\") \n",
    "])\n",
    "\n",
    "model.compile(optimizer=\"adam\",\n",
    "              loss=\"sparse_categorical_crossentropy\",\n",
    "              metrics=[\"accuracy\"])\n",
    "\n",
    "history = model.fit(X_train, y_train, validation_data=(X_val, y_val), epochs=25, batch_size=32)\n"
   ]
  },
  {
   "cell_type": "code",
   "execution_count": 501,
   "id": "accdc490-8e56-42c4-9145-d713f7627066",
   "metadata": {},
   "outputs": [
    {
     "name": "stdout",
     "output_type": "stream",
     "text": [
      "Test Loss: 0.20838028192520142\n",
      "Test Accuracy: 0.9146341681480408\n"
     ]
    }
   ],
   "source": [
    "test_loss, test_acc = model.evaluate(X_test, y_test, verbose=0)\n",
    "print(\"Test Loss:\", test_loss)\n",
    "print(\"Test Accuracy:\", test_acc)"
   ]
  },
  {
   "cell_type": "code",
   "execution_count": 502,
   "id": "81b98653-2c1b-4f12-87c2-edf7fa937462",
   "metadata": {},
   "outputs": [
    {
     "data": {
      "image/png": "[encoded data removed]",
      "text/plain": [
       "<Figure size 640x480 with 1 Axes>"
      ]
     },
     "metadata": {},
     "output_type": "display_data"
    },
    {
     "data": {
      "image/png": "[encoded data removed]",
      "text/plain": [
       "<Figure size 640x480 with 1 Axes>"
      ]
     },
     "metadata": {},
     "output_type": "display_data"
    }
   ],
   "source": [
    "import matplotlib.pyplot as plt\n",
    "\n",
    "plt.plot(history.history['loss'], label='Train loss')\n",
    "plt.plot(history.history['val_loss'], label='Val loss')\n",
    "plt.xlabel('Epoch')\n",
    "plt.ylabel('Loss')\n",
    "plt.legend()\n",
    "plt.show()\n",
    "\n",
    "plt.plot(history.history['accuracy'], label='Train acc')\n",
    "plt.plot(history.history['val_accuracy'], label='Val acc')\n",
    "plt.xlabel('Epoch')\n",
    "plt.ylabel('Accuracy')\n",
    "plt.legend()\n",
    "plt.show()\n"
   ]
  },
  {
   "cell_type": "code",
   "execution_count": 503,
   "id": "f8eb2358-1df9-45ee-a4e6-fbf28a370167",
   "metadata": {},
   "outputs": [
    {
     "name": "stdout",
     "output_type": "stream",
     "text": [
      "\u001b[1m41/41\u001b[0m \u001b[32m━━━━━━━━━━━━━━━━━━━━\u001b[0m\u001b[37m\u001b[0m \u001b[1m0s\u001b[0m 493us/step\n",
      "Precision: 0.8926\n",
      "Recall: 0.8811\n",
      "F1-score: 0.8850\n",
      "\n",
      "Reporte de clasificación:\n",
      "\n",
      "              precision    recall  f1-score   support\n",
      "\n",
      "           0       0.84      0.74      0.79       272\n",
      "           1       0.84      0.92      0.88       408\n",
      "           2       1.00      0.99      0.99       632\n",
      "\n",
      "    accuracy                           0.91      1312\n",
      "   macro avg       0.89      0.88      0.88      1312\n",
      "weighted avg       0.92      0.91      0.91      1312\n",
      "\n"
     ]
    }
   ],
   "source": [
    "from sklearn.metrics import precision_score, recall_score, f1_score, classification_report\n",
    "import numpy as np\n",
    "\n",
    "# Predicciones\n",
    "y_pred = model.predict(X_test)\n",
    "y_pred_classes = np.argmax(y_pred, axis=1)  # el modelo devuelve probabilidades por clase\n",
    "y_true = y_test  # ya está en formato entero (no one-hot)\n",
    "\n",
    "# Calcular métricas promedio\n",
    "precision = precision_score(y_true, y_pred_classes, average='macro')\n",
    "recall = recall_score(y_true, y_pred_classes, average='macro')\n",
    "f1 = f1_score(y_true, y_pred_classes, average='macro')\n",
    "\n",
    "print(f\"Precision: {precision:.4f}\")\n",
    "print(f\"Recall: {recall:.4f}\")\n",
    "print(f\"F1-score: {f1:.4f}\")\n",
    "\n",
    "# Reporte detallado (opcional)\n",
    "print(\"\\nReporte de clasificación:\\n\")\n",
    "print(classification_report(y_true, y_pred_classes))\n"
   ]
  },
  {
   "cell_type": "code",
   "execution_count": 504,
   "id": "2a47b5c1-a431-40bb-b285-36964b6b142d",
   "metadata": {},
   "outputs": [
    {
     "data": {
      "text/plain": [
       "(8743, 51)"
      ]
     },
     "execution_count": 504,
     "metadata": {},
     "output_type": "execute_result"
    }
   ],
   "source": [
    "toi.shape"
   ]
  },
  {
   "cell_type": "code",
   "execution_count": 505,
   "id": "ee1c57f8-4a12-4eae-b139-0f0618a6ba31",
   "metadata": {},
   "outputs": [
    {
     "data": {
      "text/plain": [
       "Index(['koi_disposition', 'koi_fpflag_nt', 'koi_fpflag_ss', 'koi_fpflag_co',\n",
       "       'koi_fpflag_ec', 'koi_period', 'koi_period_err1', 'koi_period_err2',\n",
       "       'koi_time0bk', 'koi_time0bk_err1', 'koi_time0bk_err2', 'koi_impact',\n",
       "       'koi_impact_err1', 'koi_impact_err2', 'koi_duration',\n",
       "       'koi_duration_err1', 'koi_duration_err2', 'koi_depth', 'koi_depth_err1',\n",
       "       'koi_depth_err2', 'koi_ror', 'koi_ror_err1', 'koi_ror_err2', 'koi_prad',\n",
       "       'koi_prad_err1', 'koi_prad_err2', 'koi_incl', 'koi_teq', 'koi_insol',\n",
       "       'koi_insol_err1', 'koi_insol_err2', 'koi_dor', 'koi_dor_err1',\n",
       "       'koi_dor_err2', 'koi_model_snr', 'koi_tce_plnt_num', 'koi_steff',\n",
       "       'koi_steff_err1', 'koi_steff_err2', 'koi_slogg', 'koi_slogg_err1',\n",
       "       'koi_slogg_err2', 'koi_srad', 'koi_srad_err1', 'koi_srad_err2',\n",
       "       'koi_smass', 'koi_smass_err1', 'koi_smass_err2', 'ra', 'dec',\n",
       "       'koi_kepmag'],\n",
       "      dtype='object')"
      ]
     },
     "execution_count": 505,
     "metadata": {},
     "output_type": "execute_result"
    }
   ],
   "source": [
    "toi.columns"
   ]
  },
  {
   "cell_type": "code",
   "execution_count": 506,
   "id": "701db33b-57b9-49fc-84d9-d045d9d49fb4",
   "metadata": {},
   "outputs": [],
   "source": [
    "# Guardar modelo en formato HDF5\n",
    "model.save(\"modeloWithLessEpochs.keras\")\n"
   ]
  },
  {
   "cell_type": "code",
   "execution_count": 419,
   "id": "1ffdd1d9-153a-4df3-8dfa-fc4cda6286f7",
   "metadata": {},
   "outputs": [
    {
     "data": {
      "text/plain": [
       "'2.19.0'"
      ]
     },
     "execution_count": 419,
     "metadata": {},
     "output_type": "execute_result"
    }
   ],
   "source": [
    "tf.__version__"
   ]
  },
  {
   "cell_type": "code",
   "execution_count": 482,
   "id": "520e02da-f266-4a28-be49-372d9ed4f868",
   "metadata": {},
   "outputs": [],
   "source": [
    "model.save(\"modelo_con_opt.keras\")\n"
   ]
  },
  {
   "cell_type": "code",
   "execution_count": null,
   "id": "72622ae7-24e2-4ba9-9056-2ac99aeb7db5",
   "metadata": {},
   "outputs": [],
   "source": []
  },
  {
   "cell_type": "code",
   "execution_count": null,
   "id": "4ca941bc-b570-4a3e-9c8b-82363f25af59",
   "metadata": {},
   "outputs": [],
   "source": []
  }
 ],
 "metadata": {
  "kernelspec": {
   "display_name": "Python 3 (ipykernel)",
   "language": "python",
   "name": "python3"
  },
  "language_info": {
   "codemirror_mode": {
    "name": "ipython",
    "version": 3
   },
   "file_extension": ".py",
   "mimetype": "text/x-python",
   "name": "python",
   "nbconvert_exporter": "python",
   "pygments_lexer": "ipython3",
   "version": "3.12.4"
  }
 },
 "nbformat": 4,
 "nbformat_minor": 5
}
